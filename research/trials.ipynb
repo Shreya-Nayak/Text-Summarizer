{
 "cells": [
  {
   "cell_type": "code",
   "execution_count": 1,
   "metadata": {},
   "outputs": [],
   "source": [
    "from box import ConfigBox\n",
    "d = ConfigBox({\"key\": \"vlaue\",\"key1\": \"vlaue1\"})"
   ]
  },
  {
   "cell_type": "code",
   "execution_count": 2,
   "metadata": {},
   "outputs": [],
   "source": [
    "def get_product(x: int, y: int) -> int:\n",
    "    return x*y"
   ]
  },
  {
   "cell_type": "code",
   "execution_count": 3,
   "metadata": {},
   "outputs": [],
   "source": [
    "from ensure import ensure_annotations"
   ]
  },
  {
   "cell_type": "code",
   "execution_count": 4,
   "metadata": {},
   "outputs": [
    {
     "name": "stdout",
     "output_type": "stream",
     "text": [
      "Current Directory: c:\\Users\\ayshr\\OneDrive\\Desktop\\Replit\\Text-Summarizer\\research\n"
     ]
    }
   ],
   "source": [
    "import os\n",
    "print(\"Current Directory:\", os.getcwd())\n"
   ]
  },
  {
   "cell_type": "code",
   "execution_count": 5,
   "metadata": {},
   "outputs": [
    {
     "name": "stdout",
     "output_type": "stream",
     "text": [
      "✅ Changed directory to: C:\\Users\\ayshr\\OneDrive\\Desktop\\Replit\\Text-Summarizer\n"
     ]
    }
   ],
   "source": [
    "os.chdir(\"C:/Users/ayshr/OneDrive/Desktop/Replit/Text-Summarizer\")\n",
    "print(\"✅ Changed directory to:\", os.getcwd())\n"
   ]
  },
  {
   "cell_type": "code",
   "execution_count": 9,
   "metadata": {},
   "outputs": [
    {
     "name": "stdout",
     "output_type": "stream",
     "text": [
      "✅ src/ added to sys.path: C:\\Users\\ayshr\\OneDrive\\Desktop\\Replit\\src\n",
      "🔍 sys.path content: ['C:\\\\Users\\\\ayshr\\\\OneDrive\\\\Desktop\\\\Replit\\\\src', 'c:\\\\Users\\\\ayshr\\\\anaconda3\\\\envs\\\\textS\\\\python38.zip', 'c:\\\\Users\\\\ayshr\\\\anaconda3\\\\envs\\\\textS\\\\DLLs', 'c:\\\\Users\\\\ayshr\\\\anaconda3\\\\envs\\\\textS\\\\lib', 'c:\\\\Users\\\\ayshr\\\\anaconda3\\\\envs\\\\textS', '', 'c:\\\\Users\\\\ayshr\\\\anaconda3\\\\envs\\\\textS\\\\lib\\\\site-packages', 'c:\\\\Users\\\\ayshr\\\\anaconda3\\\\envs\\\\textS\\\\lib\\\\site-packages\\\\win32', 'c:\\\\Users\\\\ayshr\\\\anaconda3\\\\envs\\\\textS\\\\lib\\\\site-packages\\\\win32\\\\lib', 'c:\\\\Users\\\\ayshr\\\\anaconda3\\\\envs\\\\textS\\\\lib\\\\site-packages\\\\Pythonwin', 'c:\\\\Users\\\\ayshr\\\\anaconda3\\\\envs\\\\textS\\\\lib\\\\site-packages\\\\setuptools\\\\_vendor', 'C:\\\\Users\\\\ayshr\\\\OneDrive\\\\Desktop\\\\Replit\\\\src']\n"
     ]
    }
   ],
   "source": [
    "import sys\n",
    "import os\n",
    "\n",
    "# Manually set the path to \"src/\" from \"research/\"\n",
    "PROJECT_DIR = os.path.abspath(os.path.join(os.getcwd(), \"..\"))  # Move up one level\n",
    "SRC_DIR = os.path.join(PROJECT_DIR, \"src\")  \n",
    "\n",
    "# Add \"src/\" to sys.path\n",
    "sys.path.insert(0, SRC_DIR)\n",
    "\n",
    "# Verify\n",
    "print(\"✅ src/ added to sys.path:\", SRC_DIR)\n",
    "print(\"🔍 sys.path content:\", sys.path)\n"
   ]
  },
  {
   "cell_type": "code",
   "execution_count": 15,
   "metadata": {},
   "outputs": [
    {
     "data": {
      "text/plain": [
       "'C:\\\\Users\\\\ayshr\\\\OneDrive\\\\Desktop\\\\Replit\\\\Text-Summarizer'"
      ]
     },
     "execution_count": 15,
     "metadata": {},
     "output_type": "execute_result"
    }
   ],
   "source": [
    "pwd"
   ]
  },
  {
   "cell_type": "code",
   "execution_count": 14,
   "metadata": {},
   "outputs": [
    {
     "name": "stdout",
     "output_type": "stream",
     "text": [
      "✅ Changed directory to: C:\\Users\\ayshr\\OneDrive\\Desktop\\Replit\\Text-Summarizer\n"
     ]
    }
   ],
   "source": [
    "import os\n",
    "from pathlib import Path\n",
    "\n",
    "# Correct directory path\n",
    "project_root = Path(r\"C:\\Users\\ayshr\\OneDrive\\Desktop\\Replit\\Text-Summarizer\")\n",
    "\n",
    "# Change to project root\n",
    "os.chdir(project_root)\n",
    "\n",
    "# Verify the change\n",
    "print(\"✅ Changed directory to:\", os.getcwd())\n"
   ]
  },
  {
   "cell_type": "code",
   "execution_count": null,
   "metadata": {},
   "outputs": [],
   "source": []
  }
 ],
 "metadata": {
  "kernelspec": {
   "display_name": "textS",
   "language": "python",
   "name": "python3"
  },
  "language_info": {
   "codemirror_mode": {
    "name": "ipython",
    "version": 3
   },
   "file_extension": ".py",
   "mimetype": "text/x-python",
   "name": "python",
   "nbconvert_exporter": "python",
   "pygments_lexer": "ipython3",
   "version": "3.8.20"
  }
 },
 "nbformat": 4,
 "nbformat_minor": 2
}
